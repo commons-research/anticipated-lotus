{
 "cells": [
  {
   "cell_type": "markdown",
   "id": "3bd14eaf",
   "metadata": {},
   "source": [
    "# First implementation of our model"
   ]
  },
  {
   "cell_type": "markdown",
   "id": "44aaf0ae",
   "metadata": {},
   "source": [
    "Have a look at the model [here](https://github.com/commons-research/common_dws_public_storage/blob/main/docs/anticipated_lotus/model/Metabolites.pdf). "
   ]
  },
  {
   "cell_type": "markdown",
   "id": "03e41d58",
   "metadata": {},
   "source": [
    "* Simulate $P_m$ and $Q_s$ from a Poisson distribution\n",
    "* Simulate $\\sigma_{tf}$ using a Wishart distribution"
   ]
  },
  {
   "cell_type": "code",
   "execution_count": 1,
   "id": "8c6301d8",
   "metadata": {},
   "outputs": [],
   "source": [
    "import numpy as np\n",
    "import matplotlib.pyplot as plt\n",
    "import seaborn as sns\n",
    "import scipy.stats as stats\n",
    "import pandas as pd\n",
    "import scipy.special"
   ]
  },
  {
   "cell_type": "markdown",
   "id": "20fcd342",
   "metadata": {},
   "source": [
    "### Choose the number of molecules and species"
   ]
  },
  {
   "cell_type": "code",
   "execution_count": 2,
   "id": "2b15e68c",
   "metadata": {},
   "outputs": [],
   "source": [
    "T = ['m', 's']\n",
    "n_t = [1000, 100]"
   ]
  },
  {
   "cell_type": "code",
   "execution_count": 3,
   "id": "a5cba53b",
   "metadata": {},
   "outputs": [],
   "source": [
    "assert len(T)==len(n_t)"
   ]
  },
  {
   "cell_type": "markdown",
   "id": "e39e9a57",
   "metadata": {},
   "source": [
    "### Create some $\\mu$, $\\alpha$ and $\\beta$ for each molecule and and each species"
   ]
  },
  {
   "cell_type": "code",
   "execution_count": 4,
   "id": "0561a86e",
   "metadata": {},
   "outputs": [],
   "source": [
    "def simulate_from_prior(T, n_t):\n",
    "    mu = {T[i]: np.random.normal(loc=0, scale=1, size=n_t[i]) for i in range(len(T))}\n",
    "    \n",
    "    alpha = {T[i]: np.random.exponential(scale=2, size=1) for i in range(len(T))}\n",
    "    \n",
    "    beta = {T[i]: np.random.exponential(scale=3, size=n_t[i]) for i in range(len(T))}\n",
    "    \n",
    "    sigma = {T[i]: stats.wishart.rvs(df=n_t[i],\n",
    "                                     scale=1/n_t[i]*np.eye(n_t[i]),\n",
    "                                     size=1) for i in range(len(T))}\n",
    "    \n",
    "    return mu, alpha, beta, sigma"
   ]
  },
  {
   "cell_type": "code",
   "execution_count": 5,
   "id": "2efe78a1",
   "metadata": {},
   "outputs": [],
   "source": [
    "def simulate_data(T, n_t):\n",
    "    return np.random.binomial(n=1, p=0.1, size=[i for i in n_t])"
   ]
  },
  {
   "cell_type": "code",
   "execution_count": 6,
   "id": "06479c41",
   "metadata": {},
   "outputs": [],
   "source": [
    "μ, α, β, σ= simulate_from_prior(T, n_t)"
   ]
  },
  {
   "cell_type": "code",
   "execution_count": 7,
   "id": "60484e83",
   "metadata": {},
   "outputs": [],
   "source": [
    "x = simulate_data(T, n_t)"
   ]
  },
  {
   "cell_type": "code",
   "execution_count": 8,
   "id": "c533f95f",
   "metadata": {},
   "outputs": [],
   "source": [
    "γ = np.random.exponential(scale=1, size=1)"
   ]
  },
  {
   "cell_type": "code",
   "execution_count": 9,
   "id": "ac27ec0b",
   "metadata": {},
   "outputs": [],
   "source": [
    "δ = np.random.exponential(scale=0.1, size=1)"
   ]
  },
  {
   "cell_type": "markdown",
   "id": "ec269ed0",
   "metadata": {},
   "source": [
    "Change to 1+ Poisson --> We shouldn't change to 1 + Poisson. I fact, the Lotus database will very likely be smaller than the true data **x**. This is why some molecules or some species might not have any research papers yet. "
   ]
  },
  {
   "cell_type": "code",
   "execution_count": 10,
   "id": "9bfbeacb",
   "metadata": {},
   "outputs": [],
   "source": [
    "#P_m = np.random.poisson(0.5, size=n_t[0])"
   ]
  },
  {
   "cell_type": "code",
   "execution_count": 11,
   "id": "da10d06d",
   "metadata": {},
   "outputs": [],
   "source": [
    "L = np.random.poisson(0.01, size=[i for i in n_t])"
   ]
  },
  {
   "cell_type": "code",
   "execution_count": 12,
   "id": "47a0dfc5",
   "metadata": {},
   "outputs": [],
   "source": [
    "Q_s = L.sum(axis=0)"
   ]
  },
  {
   "cell_type": "code",
   "execution_count": 13,
   "id": "9e086019",
   "metadata": {},
   "outputs": [],
   "source": [
    "P_m = L.sum(axis=1)"
   ]
  },
  {
   "cell_type": "code",
   "execution_count": 14,
   "id": "53bf2ea0",
   "metadata": {},
   "outputs": [],
   "source": [
    "#Q_s = 1 + np.random.poisson(0.5, size=n_t[1])"
   ]
  },
  {
   "cell_type": "code",
   "execution_count": 15,
   "id": "f4446758",
   "metadata": {},
   "outputs": [],
   "source": [
    "def research_effort(γ, δ, P_m, Q_s):\n",
    "    return 1 - np.exp(-γ * P_m[:, None] - δ * Q_s[None, :])"
   ]
  },
  {
   "cell_type": "code",
   "execution_count": 16,
   "id": "aa5e21eb",
   "metadata": {},
   "outputs": [],
   "source": [
    "#R = research_effort(γ, δ, P_m, Q_s)"
   ]
  },
  {
   "cell_type": "code",
   "execution_count": 17,
   "id": "cb42f1f7",
   "metadata": {},
   "outputs": [],
   "source": [
    "#look at the condition in the model to calculate the proba of L_sm\n",
    "def compute_prob_of_L(L, x, γ, δ, P_m, Q_s):\n",
    "    prob_L = np.zeros(L.shape)\n",
    "    R_ms = 1 - np.exp(-γ * P_m[:, None] - δ * Q_s[None, :])\n",
    "    \n",
    "    condition_2 = (x == 0) & (L == 0)\n",
    "    condition_3 = np.where((x == 1) & (L >= 1))\n",
    "    condition_4 = np.where((x == 1) & (L == 0))\n",
    "    \n",
    "    prob_L[condition_2] = 1\n",
    "    prob_L[condition_3] = R_ms[condition_3]\n",
    "    prob_L[condition_4] = 1 - R_ms[condition_4]\n",
    "    \n",
    "    return prob_L"
   ]
  },
  {
   "cell_type": "code",
   "execution_count": 18,
   "id": "c8a5e431",
   "metadata": {},
   "outputs": [],
   "source": [
    "prob_L = compute_prob_of_L(L, x, γ, δ, P_m, Q_s)"
   ]
  },
  {
   "cell_type": "code",
   "execution_count": 19,
   "id": "3c4f50dd",
   "metadata": {},
   "outputs": [],
   "source": [
    "#df = pd.DataFrame(np.array([L.flatten(), prob_L.flatten()]))"
   ]
  },
  {
   "cell_type": "markdown",
   "id": "b0f353aa",
   "metadata": {},
   "source": [
    "## Calculate proba of **$x$**"
   ]
  },
  {
   "cell_type": "code",
   "execution_count": 20,
   "id": "ce0de44f",
   "metadata": {},
   "outputs": [],
   "source": [
    "def prob_X(mu):\n",
    "    #extract each array of the mu dictionary\n",
    "    arrays = list(mu.values())\n",
    "    \n",
    "    #create a meash of each combination of each value\n",
    "    mesh = np.meshgrid(*arrays, indexing='ij')\n",
    "\n",
    "    sum_combinations = np.sum(mesh, axis=0)\n",
    "    return scipy.special.expit(sum_combinations)"
   ]
  },
  {
   "cell_type": "code",
   "execution_count": 21,
   "id": "7fc98389",
   "metadata": {},
   "outputs": [
    {
     "data": {
      "text/plain": [
       "(1000, 100)"
      ]
     },
     "execution_count": 21,
     "metadata": {},
     "output_type": "execute_result"
    }
   ],
   "source": [
    "prob_X(μ).shape"
   ]
  },
  {
   "cell_type": "code",
   "execution_count": 22,
   "id": "c06590b8",
   "metadata": {},
   "outputs": [],
   "source": [
    "def prob_sigma(alpha, sigma):\n",
    "    multiplied_matrices = {key: np.ndarray.flatten(alpha[key] * sigma[key]).astype('float16') for key in alpha.keys()}\n",
    "    \n",
    "    matrices = list(multiplied_matrices.values())\n",
    "    \n",
    "    mesh = np.meshgrid(*matrices, indexing='ij')\n",
    "    return np.sum(mesh, axis=0)"
   ]
  },
  {
   "cell_type": "code",
   "execution_count": null,
   "id": "d86e4b46",
   "metadata": {
    "scrolled": true
   },
   "outputs": [],
   "source": [
    "pd.DataFrame(prob_sigma(α, σ))"
   ]
  },
  {
   "cell_type": "code",
   "execution_count": null,
   "id": "63f1fa7c",
   "metadata": {},
   "outputs": [],
   "source": [
    "α"
   ]
  },
  {
   "cell_type": "code",
   "execution_count": null,
   "id": "f9a0813b",
   "metadata": {},
   "outputs": [],
   "source": [
    "σ['m'][1,0]"
   ]
  },
  {
   "cell_type": "code",
   "execution_count": null,
   "id": "47b5cef1",
   "metadata": {},
   "outputs": [],
   "source": [
    "σ['s'][0,0]"
   ]
  }
 ],
 "metadata": {
  "kernelspec": {
   "display_name": "Python 3 (ipykernel)",
   "language": "python",
   "name": "python3"
  },
  "language_info": {
   "codemirror_mode": {
    "name": "ipython",
    "version": 3
   },
   "file_extension": ".py",
   "mimetype": "text/x-python",
   "name": "python",
   "nbconvert_exporter": "python",
   "pygments_lexer": "ipython3",
   "version": "3.10.9"
  }
 },
 "nbformat": 4,
 "nbformat_minor": 5
}
