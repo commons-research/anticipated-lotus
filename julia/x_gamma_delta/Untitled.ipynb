{
 "cells": [
  {
   "cell_type": "code",
   "execution_count": 1,
   "id": "7db7e78a",
   "metadata": {},
   "outputs": [],
   "source": [
    "using Distributions"
   ]
  },
  {
   "cell_type": "code",
   "execution_count": 7,
   "id": "d4166149",
   "metadata": {},
   "outputs": [
    {
     "name": "stdout",
     "output_type": "stream",
     "text": [
      "search: \u001b[0m\u001b[1mM\u001b[22m\u001b[0m\u001b[1ma\u001b[22m\u001b[0m\u001b[1mt\u001b[22m\u001b[0m\u001b[1mr\u001b[22m\u001b[0m\u001b[1mi\u001b[22m\u001b[0m\u001b[1mx\u001b[22m \u001b[0m\u001b[1mM\u001b[22m\u001b[0m\u001b[1ma\u001b[22m\u001b[0m\u001b[1mt\u001b[22m\u001b[0m\u001b[1mr\u001b[22m\u001b[0m\u001b[1mi\u001b[22m\u001b[0m\u001b[1mx\u001b[22mBeta \u001b[0m\u001b[1mM\u001b[22m\u001b[0m\u001b[1ma\u001b[22m\u001b[0m\u001b[1mt\u001b[22m\u001b[0m\u001b[1mr\u001b[22m\u001b[0m\u001b[1mi\u001b[22m\u001b[0m\u001b[1mx\u001b[22mTDist \u001b[0m\u001b[1mM\u001b[22m\u001b[0m\u001b[1ma\u001b[22m\u001b[0m\u001b[1mt\u001b[22m\u001b[0m\u001b[1mr\u001b[22m\u001b[0m\u001b[1mi\u001b[22m\u001b[0m\u001b[1mx\u001b[22mFDist \u001b[0m\u001b[1mM\u001b[22m\u001b[0m\u001b[1ma\u001b[22m\u001b[0m\u001b[1mt\u001b[22m\u001b[0m\u001b[1mr\u001b[22m\u001b[0m\u001b[1mi\u001b[22m\u001b[0m\u001b[1mx\u001b[22mNormal \u001b[0m\u001b[1mM\u001b[22m\u001b[0m\u001b[1ma\u001b[22m\u001b[0m\u001b[1mt\u001b[22m\u001b[0m\u001b[1mr\u001b[22m\u001b[0m\u001b[1mi\u001b[22m\u001b[0m\u001b[1mx\u001b[22mvariate\n",
      "\n"
     ]
    },
    {
     "data": {
      "text/latex": [
       "\\begin{verbatim}\n",
       "Matrix{T} <: AbstractMatrix{T}\n",
       "\\end{verbatim}\n",
       "Two-dimensional dense array with elements of type \\texttt{T}, often used to represent a mathematical matrix. Alias for \\href{@ref}{\\texttt{Array\\{T,2\\}}}.\n",
       "\n",
       "See also \\href{@ref}{\\texttt{fill}}, \\href{@ref}{\\texttt{zeros}}, \\href{@ref}{\\texttt{undef}} and \\href{@ref}{\\texttt{similar}} for creating matrices.\n",
       "\n",
       "\\rule{\\textwidth}{1pt}\n",
       "\\begin{verbatim}\n",
       "Matrix{T}(undef, m, n)\n",
       "\\end{verbatim}\n",
       "Construct an uninitialized \\href{@ref}{\\texttt{Matrix\\{T\\}}} of size \\texttt{m}×\\texttt{n}.\n",
       "\n",
       "\\section{Examples}\n",
       "\\begin{verbatim}\n",
       "julia> Matrix{Float64}(undef, 2, 3)\n",
       "2×3 Array{Float64, 2}:\n",
       " 2.36365e-314  2.28473e-314    5.0e-324\n",
       " 2.26704e-314  2.26711e-314  NaN\n",
       "\n",
       "julia> similar(ans, Int32, 2, 2)\n",
       "2×2 Matrix{Int32}:\n",
       " 490537216  1277177453\n",
       "         1  1936748399\n",
       "\\end{verbatim}\n",
       "\\rule{\\textwidth}{1pt}\n",
       "\\begin{verbatim}\n",
       "Matrix{T}(nothing, m, n)\n",
       "\\end{verbatim}\n",
       "Construct a \\href{@ref}{\\texttt{Matrix\\{T\\}}} of size \\texttt{m}×\\texttt{n}, initialized with \\href{@ref}{\\texttt{nothing}} entries. Element type \\texttt{T} must be able to hold these values, i.e. \\texttt{Nothing <: T}.\n",
       "\n",
       "\\section{Examples}\n",
       "\\begin{verbatim}\n",
       "julia> Matrix{Union{Nothing, String}}(nothing, 2, 3)\n",
       "2×3 Matrix{Union{Nothing, String}}:\n",
       " nothing  nothing  nothing\n",
       " nothing  nothing  nothing\n",
       "\\end{verbatim}\n",
       "\\rule{\\textwidth}{1pt}\n",
       "\\begin{verbatim}\n",
       "Matrix{T}(missing, m, n)\n",
       "\\end{verbatim}\n",
       "Construct a \\href{@ref}{\\texttt{Matrix\\{T\\}}} of size \\texttt{m}×\\texttt{n}, initialized with \\href{@ref}{\\texttt{missing}} entries. Element type \\texttt{T} must be able to hold these values, i.e. \\texttt{Missing <: T}.\n",
       "\n",
       "\\section{Examples}\n",
       "\\begin{verbatim}\n",
       "julia> Matrix{Union{Missing, String}}(missing, 2, 3)\n",
       "2×3 Matrix{Union{Missing, String}}:\n",
       " missing  missing  missing\n",
       " missing  missing  missing\n",
       "\\end{verbatim}\n"
      ],
      "text/markdown": [
       "```\n",
       "Matrix{T} <: AbstractMatrix{T}\n",
       "```\n",
       "\n",
       "Two-dimensional dense array with elements of type `T`, often used to represent a mathematical matrix. Alias for [`Array{T,2}`](@ref).\n",
       "\n",
       "See also [`fill`](@ref), [`zeros`](@ref), [`undef`](@ref) and [`similar`](@ref) for creating matrices.\n",
       "\n",
       "---\n",
       "\n",
       "```\n",
       "Matrix{T}(undef, m, n)\n",
       "```\n",
       "\n",
       "Construct an uninitialized [`Matrix{T}`](@ref) of size `m`×`n`.\n",
       "\n",
       "# Examples\n",
       "\n",
       "```julia-repl\n",
       "julia> Matrix{Float64}(undef, 2, 3)\n",
       "2×3 Array{Float64, 2}:\n",
       " 2.36365e-314  2.28473e-314    5.0e-324\n",
       " 2.26704e-314  2.26711e-314  NaN\n",
       "\n",
       "julia> similar(ans, Int32, 2, 2)\n",
       "2×2 Matrix{Int32}:\n",
       " 490537216  1277177453\n",
       "         1  1936748399\n",
       "```\n",
       "\n",
       "---\n",
       "\n",
       "```\n",
       "Matrix{T}(nothing, m, n)\n",
       "```\n",
       "\n",
       "Construct a [`Matrix{T}`](@ref) of size `m`×`n`, initialized with [`nothing`](@ref) entries. Element type `T` must be able to hold these values, i.e. `Nothing <: T`.\n",
       "\n",
       "# Examples\n",
       "\n",
       "```jldoctest\n",
       "julia> Matrix{Union{Nothing, String}}(nothing, 2, 3)\n",
       "2×3 Matrix{Union{Nothing, String}}:\n",
       " nothing  nothing  nothing\n",
       " nothing  nothing  nothing\n",
       "```\n",
       "\n",
       "---\n",
       "\n",
       "```\n",
       "Matrix{T}(missing, m, n)\n",
       "```\n",
       "\n",
       "Construct a [`Matrix{T}`](@ref) of size `m`×`n`, initialized with [`missing`](@ref) entries. Element type `T` must be able to hold these values, i.e. `Missing <: T`.\n",
       "\n",
       "# Examples\n",
       "\n",
       "```jldoctest\n",
       "julia> Matrix{Union{Missing, String}}(missing, 2, 3)\n",
       "2×3 Matrix{Union{Missing, String}}:\n",
       " missing  missing  missing\n",
       " missing  missing  missing\n",
       "```\n"
      ],
      "text/plain": [
       "\u001b[36m  Matrix{T} <: AbstractMatrix{T}\u001b[39m\n",
       "\n",
       "  Two-dimensional dense array with elements of type \u001b[36mT\u001b[39m, often used to represent\n",
       "  a mathematical matrix. Alias for \u001b[36mArray{T,2}\u001b[39m.\n",
       "\n",
       "  See also \u001b[36mfill\u001b[39m, \u001b[36mzeros\u001b[39m, \u001b[36mundef\u001b[39m and \u001b[36msimilar\u001b[39m for creating matrices.\n",
       "\n",
       "  ────────────────────────────────────────────────────────────────────────────\n",
       "\n",
       "\u001b[36m  Matrix{T}(undef, m, n)\u001b[39m\n",
       "\n",
       "  Construct an uninitialized \u001b[36mMatrix{T}\u001b[39m of size \u001b[36mm\u001b[39m×\u001b[36mn\u001b[39m.\n",
       "\n",
       "\u001b[1m  Examples\u001b[22m\n",
       "\u001b[1m  ≡≡≡≡≡≡≡≡≡≡\u001b[22m\n",
       "\n",
       "\u001b[36m  julia> Matrix{Float64}(undef, 2, 3)\u001b[39m\n",
       "\u001b[36m  2×3 Array{Float64, 2}:\u001b[39m\n",
       "\u001b[36m   2.36365e-314  2.28473e-314    5.0e-324\u001b[39m\n",
       "\u001b[36m   2.26704e-314  2.26711e-314  NaN\u001b[39m\n",
       "\u001b[36m  \u001b[39m\n",
       "\u001b[36m  julia> similar(ans, Int32, 2, 2)\u001b[39m\n",
       "\u001b[36m  2×2 Matrix{Int32}:\u001b[39m\n",
       "\u001b[36m   490537216  1277177453\u001b[39m\n",
       "\u001b[36m           1  1936748399\u001b[39m\n",
       "\n",
       "  ────────────────────────────────────────────────────────────────────────────\n",
       "\n",
       "\u001b[36m  Matrix{T}(nothing, m, n)\u001b[39m\n",
       "\n",
       "  Construct a \u001b[36mMatrix{T}\u001b[39m of size \u001b[36mm\u001b[39m×\u001b[36mn\u001b[39m, initialized with \u001b[36mnothing\u001b[39m entries. Element\n",
       "  type \u001b[36mT\u001b[39m must be able to hold these values, i.e. \u001b[36mNothing <: T\u001b[39m.\n",
       "\n",
       "\u001b[1m  Examples\u001b[22m\n",
       "\u001b[1m  ≡≡≡≡≡≡≡≡≡≡\u001b[22m\n",
       "\n",
       "\u001b[36m  julia> Matrix{Union{Nothing, String}}(nothing, 2, 3)\u001b[39m\n",
       "\u001b[36m  2×3 Matrix{Union{Nothing, String}}:\u001b[39m\n",
       "\u001b[36m   nothing  nothing  nothing\u001b[39m\n",
       "\u001b[36m   nothing  nothing  nothing\u001b[39m\n",
       "\n",
       "  ────────────────────────────────────────────────────────────────────────────\n",
       "\n",
       "\u001b[36m  Matrix{T}(missing, m, n)\u001b[39m\n",
       "\n",
       "  Construct a \u001b[36mMatrix{T}\u001b[39m of size \u001b[36mm\u001b[39m×\u001b[36mn\u001b[39m, initialized with \u001b[36mmissing\u001b[39m entries. Element\n",
       "  type \u001b[36mT\u001b[39m must be able to hold these values, i.e. \u001b[36mMissing <: T\u001b[39m.\n",
       "\n",
       "\u001b[1m  Examples\u001b[22m\n",
       "\u001b[1m  ≡≡≡≡≡≡≡≡≡≡\u001b[22m\n",
       "\n",
       "\u001b[36m  julia> Matrix{Union{Missing, String}}(missing, 2, 3)\u001b[39m\n",
       "\u001b[36m  2×3 Matrix{Union{Missing, String}}:\u001b[39m\n",
       "\u001b[36m   missing  missing  missing\u001b[39m\n",
       "\u001b[36m   missing  missing  missing\u001b[39m"
      ]
     },
     "execution_count": 7,
     "metadata": {},
     "output_type": "execute_result"
    }
   ],
   "source": [
    "?Matrix"
   ]
  },
  {
   "cell_type": "code",
   "execution_count": 24,
   "id": "54e81fba",
   "metadata": {},
   "outputs": [
    {
     "data": {
      "text/plain": [
       "3×3 Matrix{Float64}:\n",
       " 0.333333  0.333333  0.333333\n",
       " 0.333333  0.333333  0.333333\n",
       " 0.333333  0.333333  0.333333"
      ]
     },
     "execution_count": 24,
     "metadata": {},
     "output_type": "execute_result"
    }
   ],
   "source": [
    "mat = 1/3 * ones(3,3)"
   ]
  },
  {
   "cell_type": "code",
   "execution_count": 29,
   "id": "5c1492a1",
   "metadata": {},
   "outputs": [
    {
     "ename": "LoadError",
     "evalue": "UndefVarError: I not defined",
     "output_type": "error",
     "traceback": [
      "UndefVarError: I not defined",
      "",
      "Stacktrace:",
      " [1] top-level scope",
      "   @ In[29]:1"
     ]
    }
   ],
   "source": [
    "rand(Wishart(20, Matrix{Float64}(1.0I, 20, 20)))"
   ]
  },
  {
   "cell_type": "code",
   "execution_count": 27,
   "id": "19697493",
   "metadata": {},
   "outputs": [
    {
     "ename": "LoadError",
     "evalue": "PosDefException: matrix is not positive definite; Cholesky factorization failed.",
     "output_type": "error",
     "traceback": [
      "PosDefException: matrix is not positive definite; Cholesky factorization failed.",
      "",
      "Stacktrace:",
      " [1] checkpositivedefinite",
      "   @ /usr/local/Cellar/julia/1.8.5/share/julia/stdlib/v1.8/LinearAlgebra/src/factorization.jl:18 [inlined]",
      " [2] cholesky!(A::LinearAlgebra.Hermitian{Float64, Matrix{Float64}}, ::LinearAlgebra.NoPivot; check::Bool)",
      "   @ LinearAlgebra /usr/local/Cellar/julia/1.8.5/share/julia/stdlib/v1.8/LinearAlgebra/src/cholesky.jl:270",
      " [3] cholesky!(A::Matrix{Float64}, ::LinearAlgebra.NoPivot; check::Bool)",
      "   @ LinearAlgebra /usr/local/Cellar/julia/1.8.5/share/julia/stdlib/v1.8/LinearAlgebra/src/cholesky.jl:302",
      " [4] #cholesky#162",
      "   @ /usr/local/Cellar/julia/1.8.5/share/julia/stdlib/v1.8/LinearAlgebra/src/cholesky.jl:402 [inlined]",
      " [5] cholesky (repeats 2 times)",
      "   @ /usr/local/Cellar/julia/1.8.5/share/julia/stdlib/v1.8/LinearAlgebra/src/cholesky.jl:402 [inlined]",
      " [6] PDMat",
      "   @ ~/.julia/packages/PDMats/CbBv1/src/pdmat.jl:19 [inlined]",
      " [7] InverseWishart(df::Int64, Ψ::Matrix{Float64})",
      "   @ Distributions ~/.julia/packages/Distributions/Spcmv/src/matrix/inversewishart.jl:45",
      " [8] top-level scope",
      "   @ In[27]:1"
     ]
    }
   ],
   "source": [
    "InverseWishart(3, mat)"
   ]
  }
 ],
 "metadata": {
  "kernelspec": {
   "display_name": "Julia 1.8.5",
   "language": "julia",
   "name": "julia-1.8"
  },
  "language_info": {
   "file_extension": ".jl",
   "mimetype": "application/julia",
   "name": "julia",
   "version": "1.8.5"
  }
 },
 "nbformat": 4,
 "nbformat_minor": 5
}
